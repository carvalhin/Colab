{
  "cells": [
    {
      "cell_type": "markdown",
      "metadata": {
        "id": "view-in-github",
        "colab_type": "text"
      },
      "source": [
        "<a href=\"https://colab.research.google.com/github/carvalhin/Colab/blob/main/Prova2.ipynb\" target=\"_parent\"><img src=\"https://colab.research.google.com/assets/colab-badge.svg\" alt=\"Open In Colab\"/></a>"
      ]
    },
    {
      "cell_type": "markdown",
      "source": [
        "# Igor Rodrigues de Carvalho - RA: 150334\n",
        "# 02/09/2024\n",
        "# Questão 3\n",
        "\n",
        "A) Vírus Isolado da Varíola dos Macacos (Monkey Pox).\n",
        "\n",
        "B) Identidade de : 93,06 %.\n",
        "\n",
        "C) E-Value : 2e-17.\n",
        "\n",
        "D) O E-Value a grosso modo, representa uma forma mensurável de observar as formas de alinhamento e suas paridades com outros alinhamentos. Conforme pesquisado em um banco de dados, qual a probabilidade de se encontrar outros alinhamentos com a mesma pontuação.\n",
        "\n",
        "E) Após ser realizado o BLAST é possível observar que a sequência genética dada, é um recorte do RNA do vírus Monkey Pox.\n"
      ],
      "metadata": {
        "id": "Jjh-s3a5Vv7L"
      }
    },
    {
      "cell_type": "code",
      "source": [
        "# Igor Rodrigues de Carvalho - RA: 150334\n",
        "# 02/09/2024\n",
        "# Questão 2\n",
        "import numpy as np\n",
        "import matplotlib.pyplot as plt\n",
        "\n",
        "pi = np.pi                # Número pi.\n",
        "print (pi)\n",
        "\n",
        "x = np.arange(0,)\n",
        "y = np.arange(0,pi,0.2)\n",
        "\n",
        "plt.plot(x,y)\n",
        "plt.show()\n",
        "\n"
      ],
      "metadata": {
        "colab": {
          "base_uri": "https://localhost:8080/",
          "height": 791
        },
        "id": "JncyGr3JB209",
        "outputId": "5c02fd4d-3d45-4b40-cbe3-cfd6992187b6"
      },
      "execution_count": 46,
      "outputs": [
        {
          "output_type": "stream",
          "name": "stdout",
          "text": [
            "3.141592653589793\n"
          ]
        },
        {
          "output_type": "error",
          "ename": "ValueError",
          "evalue": "x and y must have same first dimension, but have shapes (0,) and (16,)",
          "traceback": [
            "\u001b[0;31m---------------------------------------------------------------------------\u001b[0m",
            "\u001b[0;31mValueError\u001b[0m                                Traceback (most recent call last)",
            "\u001b[0;32m<ipython-input-46-fa517ab29c0a>\u001b[0m in \u001b[0;36m<cell line: 13>\u001b[0;34m()\u001b[0m\n\u001b[1;32m     11\u001b[0m \u001b[0my\u001b[0m \u001b[0;34m=\u001b[0m \u001b[0mnp\u001b[0m\u001b[0;34m.\u001b[0m\u001b[0marange\u001b[0m\u001b[0;34m(\u001b[0m\u001b[0;36m0\u001b[0m\u001b[0;34m,\u001b[0m\u001b[0mpi\u001b[0m\u001b[0;34m,\u001b[0m\u001b[0;36m0.2\u001b[0m\u001b[0;34m)\u001b[0m\u001b[0;34m\u001b[0m\u001b[0;34m\u001b[0m\u001b[0m\n\u001b[1;32m     12\u001b[0m \u001b[0;34m\u001b[0m\u001b[0m\n\u001b[0;32m---> 13\u001b[0;31m \u001b[0mplt\u001b[0m\u001b[0;34m.\u001b[0m\u001b[0mplot\u001b[0m\u001b[0;34m(\u001b[0m\u001b[0mx\u001b[0m\u001b[0;34m,\u001b[0m\u001b[0my\u001b[0m\u001b[0;34m)\u001b[0m\u001b[0;34m\u001b[0m\u001b[0;34m\u001b[0m\u001b[0m\n\u001b[0m\u001b[1;32m     14\u001b[0m \u001b[0mplt\u001b[0m\u001b[0;34m.\u001b[0m\u001b[0mshow\u001b[0m\u001b[0;34m(\u001b[0m\u001b[0;34m)\u001b[0m\u001b[0;34m\u001b[0m\u001b[0;34m\u001b[0m\u001b[0m\n\u001b[1;32m     15\u001b[0m \u001b[0;34m\u001b[0m\u001b[0m\n",
            "\u001b[0;32m/usr/local/lib/python3.10/dist-packages/matplotlib/pyplot.py\u001b[0m in \u001b[0;36mplot\u001b[0;34m(scalex, scaley, data, *args, **kwargs)\u001b[0m\n\u001b[1;32m   2810\u001b[0m \u001b[0;34m@\u001b[0m\u001b[0m_copy_docstring_and_deprecators\u001b[0m\u001b[0;34m(\u001b[0m\u001b[0mAxes\u001b[0m\u001b[0;34m.\u001b[0m\u001b[0mplot\u001b[0m\u001b[0;34m)\u001b[0m\u001b[0;34m\u001b[0m\u001b[0;34m\u001b[0m\u001b[0m\n\u001b[1;32m   2811\u001b[0m \u001b[0;32mdef\u001b[0m \u001b[0mplot\u001b[0m\u001b[0;34m(\u001b[0m\u001b[0;34m*\u001b[0m\u001b[0margs\u001b[0m\u001b[0;34m,\u001b[0m \u001b[0mscalex\u001b[0m\u001b[0;34m=\u001b[0m\u001b[0;32mTrue\u001b[0m\u001b[0;34m,\u001b[0m \u001b[0mscaley\u001b[0m\u001b[0;34m=\u001b[0m\u001b[0;32mTrue\u001b[0m\u001b[0;34m,\u001b[0m \u001b[0mdata\u001b[0m\u001b[0;34m=\u001b[0m\u001b[0;32mNone\u001b[0m\u001b[0;34m,\u001b[0m \u001b[0;34m**\u001b[0m\u001b[0mkwargs\u001b[0m\u001b[0;34m)\u001b[0m\u001b[0;34m:\u001b[0m\u001b[0;34m\u001b[0m\u001b[0;34m\u001b[0m\u001b[0m\n\u001b[0;32m-> 2812\u001b[0;31m     return gca().plot(\n\u001b[0m\u001b[1;32m   2813\u001b[0m         \u001b[0;34m*\u001b[0m\u001b[0margs\u001b[0m\u001b[0;34m,\u001b[0m \u001b[0mscalex\u001b[0m\u001b[0;34m=\u001b[0m\u001b[0mscalex\u001b[0m\u001b[0;34m,\u001b[0m \u001b[0mscaley\u001b[0m\u001b[0;34m=\u001b[0m\u001b[0mscaley\u001b[0m\u001b[0;34m,\u001b[0m\u001b[0;34m\u001b[0m\u001b[0;34m\u001b[0m\u001b[0m\n\u001b[1;32m   2814\u001b[0m         **({\"data\": data} if data is not None else {}), **kwargs)\n",
            "\u001b[0;32m/usr/local/lib/python3.10/dist-packages/matplotlib/axes/_axes.py\u001b[0m in \u001b[0;36mplot\u001b[0;34m(self, scalex, scaley, data, *args, **kwargs)\u001b[0m\n\u001b[1;32m   1686\u001b[0m         \"\"\"\n\u001b[1;32m   1687\u001b[0m         \u001b[0mkwargs\u001b[0m \u001b[0;34m=\u001b[0m \u001b[0mcbook\u001b[0m\u001b[0;34m.\u001b[0m\u001b[0mnormalize_kwargs\u001b[0m\u001b[0;34m(\u001b[0m\u001b[0mkwargs\u001b[0m\u001b[0;34m,\u001b[0m \u001b[0mmlines\u001b[0m\u001b[0;34m.\u001b[0m\u001b[0mLine2D\u001b[0m\u001b[0;34m)\u001b[0m\u001b[0;34m\u001b[0m\u001b[0;34m\u001b[0m\u001b[0m\n\u001b[0;32m-> 1688\u001b[0;31m         \u001b[0mlines\u001b[0m \u001b[0;34m=\u001b[0m \u001b[0;34m[\u001b[0m\u001b[0;34m*\u001b[0m\u001b[0mself\u001b[0m\u001b[0;34m.\u001b[0m\u001b[0m_get_lines\u001b[0m\u001b[0;34m(\u001b[0m\u001b[0;34m*\u001b[0m\u001b[0margs\u001b[0m\u001b[0;34m,\u001b[0m \u001b[0mdata\u001b[0m\u001b[0;34m=\u001b[0m\u001b[0mdata\u001b[0m\u001b[0;34m,\u001b[0m \u001b[0;34m**\u001b[0m\u001b[0mkwargs\u001b[0m\u001b[0;34m)\u001b[0m\u001b[0;34m]\u001b[0m\u001b[0;34m\u001b[0m\u001b[0;34m\u001b[0m\u001b[0m\n\u001b[0m\u001b[1;32m   1689\u001b[0m         \u001b[0;32mfor\u001b[0m \u001b[0mline\u001b[0m \u001b[0;32min\u001b[0m \u001b[0mlines\u001b[0m\u001b[0;34m:\u001b[0m\u001b[0;34m\u001b[0m\u001b[0;34m\u001b[0m\u001b[0m\n\u001b[1;32m   1690\u001b[0m             \u001b[0mself\u001b[0m\u001b[0;34m.\u001b[0m\u001b[0madd_line\u001b[0m\u001b[0;34m(\u001b[0m\u001b[0mline\u001b[0m\u001b[0;34m)\u001b[0m\u001b[0;34m\u001b[0m\u001b[0;34m\u001b[0m\u001b[0m\n",
            "\u001b[0;32m/usr/local/lib/python3.10/dist-packages/matplotlib/axes/_base.py\u001b[0m in \u001b[0;36m__call__\u001b[0;34m(self, data, *args, **kwargs)\u001b[0m\n\u001b[1;32m    309\u001b[0m                 \u001b[0mthis\u001b[0m \u001b[0;34m+=\u001b[0m \u001b[0margs\u001b[0m\u001b[0;34m[\u001b[0m\u001b[0;36m0\u001b[0m\u001b[0;34m]\u001b[0m\u001b[0;34m,\u001b[0m\u001b[0;34m\u001b[0m\u001b[0;34m\u001b[0m\u001b[0m\n\u001b[1;32m    310\u001b[0m                 \u001b[0margs\u001b[0m \u001b[0;34m=\u001b[0m \u001b[0margs\u001b[0m\u001b[0;34m[\u001b[0m\u001b[0;36m1\u001b[0m\u001b[0;34m:\u001b[0m\u001b[0;34m]\u001b[0m\u001b[0;34m\u001b[0m\u001b[0;34m\u001b[0m\u001b[0m\n\u001b[0;32m--> 311\u001b[0;31m             yield from self._plot_args(\n\u001b[0m\u001b[1;32m    312\u001b[0m                 this, kwargs, ambiguous_fmt_datakey=ambiguous_fmt_datakey)\n\u001b[1;32m    313\u001b[0m \u001b[0;34m\u001b[0m\u001b[0m\n",
            "\u001b[0;32m/usr/local/lib/python3.10/dist-packages/matplotlib/axes/_base.py\u001b[0m in \u001b[0;36m_plot_args\u001b[0;34m(self, tup, kwargs, return_kwargs, ambiguous_fmt_datakey)\u001b[0m\n\u001b[1;32m    502\u001b[0m \u001b[0;34m\u001b[0m\u001b[0m\n\u001b[1;32m    503\u001b[0m         \u001b[0;32mif\u001b[0m \u001b[0mx\u001b[0m\u001b[0;34m.\u001b[0m\u001b[0mshape\u001b[0m\u001b[0;34m[\u001b[0m\u001b[0;36m0\u001b[0m\u001b[0;34m]\u001b[0m \u001b[0;34m!=\u001b[0m \u001b[0my\u001b[0m\u001b[0;34m.\u001b[0m\u001b[0mshape\u001b[0m\u001b[0;34m[\u001b[0m\u001b[0;36m0\u001b[0m\u001b[0;34m]\u001b[0m\u001b[0;34m:\u001b[0m\u001b[0;34m\u001b[0m\u001b[0;34m\u001b[0m\u001b[0m\n\u001b[0;32m--> 504\u001b[0;31m             raise ValueError(f\"x and y must have same first dimension, but \"\n\u001b[0m\u001b[1;32m    505\u001b[0m                              f\"have shapes {x.shape} and {y.shape}\")\n\u001b[1;32m    506\u001b[0m         \u001b[0;32mif\u001b[0m \u001b[0mx\u001b[0m\u001b[0;34m.\u001b[0m\u001b[0mndim\u001b[0m \u001b[0;34m>\u001b[0m \u001b[0;36m2\u001b[0m \u001b[0;32mor\u001b[0m \u001b[0my\u001b[0m\u001b[0;34m.\u001b[0m\u001b[0mndim\u001b[0m \u001b[0;34m>\u001b[0m \u001b[0;36m2\u001b[0m\u001b[0;34m:\u001b[0m\u001b[0;34m\u001b[0m\u001b[0;34m\u001b[0m\u001b[0m\n",
            "\u001b[0;31mValueError\u001b[0m: x and y must have same first dimension, but have shapes (0,) and (16,)"
          ]
        },
        {
          "output_type": "display_data",
          "data": {
            "text/plain": [
              "<Figure size 640x480 with 1 Axes>"
            ],
            "image/png": "[encoded data removed]"
          },
          "metadata": {}
        }
      ]
    },
    {
      "cell_type": "code",
      "source": [
        "# Igor Rodrigues de Carvalho - RA: 150334\n",
        "# 02/09/2024\n",
        "# Questão 1\n",
        "from scipy.special import factorial\n",
        "import numpy as np\n",
        "import matplotlib.pyplot as plt\n",
        "\n",
        "# Função utilizando série de Taylor para calcular o Seno, com  32 termos.\n",
        "\n",
        "den =  np.arange(0,32)    #array original, \"n\".\n",
        "print(den)\n",
        "print(20*\"--\")\n",
        "\n",
        "pro = np.array(2*den+1)   #array (2n+1), denominador.\n",
        "print(\"Denominador : \", pro)\n",
        "print(20*\"--\")\n",
        "\n",
        "pre = np.array((-1)**den) #array numerador, (-1)**n. É 1 ou -1.\n",
        "print(pre)\n",
        "print(20*\"--\")\n",
        "\n",
        "pi = np.pi                # Número pi.\n",
        "# print (pi)\n",
        "\n",
        "x = np.arange(0,2*pi,0.2) # array com variações do Círculo Trigonométrico, De zero a 2PI.\n",
        "print(x)\n",
        "print(20*\"--\")\n",
        "\n",
        "l = x.size\n",
        "print(\"Círculo Trigonométrico =\",l)\n",
        "print(20*\"--\")\n",
        "\n",
        "mul = np.array((x)**((2*den)+1))  # array multiplicador, x**(2*n+1).\n",
        "print(mul)\n",
        "print(20*\"--\")\n",
        "\n",
        "print(40*\"--\")\n",
        "print(40*\"--\")\n",
        "\n",
        "factorials = factorial(pro)\n",
        "print(factorials)\n",
        "\n",
        "sen = ((pre/(factorials))*mul)\n",
        "\n",
        "print(40*\"--\")\n",
        "print(40*\"--\")\n",
        "\n",
        "print(\"VALORES DOS SENOS ::\", sen)\n",
        "print(\" \")\n",
        "print(40*\"--\")\n",
        "print(40*\"--\")\n",
        "print(\" \")\n",
        "cos = np.sqrt(1-(sen**2))\n",
        "print(\"VALORES DOS COS ::\", cos)\n",
        "\n",
        "\n",
        "\n"
      ],
      "metadata": {
        "colab": {
          "base_uri": "https://localhost:8080/"
        },
        "id": "0JocUWG5FhdE",
        "outputId": "eb8e6575-4e1f-4c45-f697-176203ee5aeb"
      },
      "execution_count": 40,
      "outputs": [
        {
          "output_type": "stream",
          "name": "stdout",
          "text": [
            "[ 0  1  2  3  4  5  6  7  8  9 10 11 12 13 14 15 16 17 18 19 20 21 22 23\n",
            " 24 25 26 27 28 29 30 31]\n",
            "----------------------------------------\n",
            "Denominador :  [ 1  3  5  7  9 11 13 15 17 19 21 23 25 27 29 31 33 35 37 39 41 43 45 47\n",
            " 49 51 53 55 57 59 61 63]\n",
            "----------------------------------------\n",
            "[ 1 -1  1 -1  1 -1  1 -1  1 -1  1 -1  1 -1  1 -1  1 -1  1 -1  1 -1  1 -1\n",
            "  1 -1  1 -1  1 -1  1 -1]\n",
            "----------------------------------------\n",
            "[0.  0.2 0.4 0.6 0.8 1.  1.2 1.4 1.6 1.8 2.  2.2 2.4 2.6 2.8 3.  3.2 3.4\n",
            " 3.6 3.8 4.  4.2 4.4 4.6 4.8 5.  5.2 5.4 5.6 5.8 6.  6.2]\n",
            "----------------------------------------\n",
            "Círculo Trigonométrico = 32\n",
            "----------------------------------------\n",
            "[0.00000000e+00 8.00000000e-03 1.02400000e-02 2.79936000e-02\n",
            " 1.34217728e-01 1.00000000e+00 1.06993205e+01 1.55568096e+02\n",
            " 2.95147905e+03 7.08235345e+04 2.09715200e+06 7.51141330e+07\n",
            " 3.20096586e+09 1.60059109e+11 9.28074647e+12 6.17673396e+14\n",
            " 4.67680524e+16 3.99725723e+18 3.82994492e+20 4.08846485e+22\n",
            " 4.83570328e+24 6.30549938e+26 9.02340482e+28 1.41129593e+31\n",
            " 2.40336998e+33 4.44089210e+35 8.87518087e+37 1.91274374e+40\n",
            " 4.43320219e+42 1.10217770e+45 2.93242068e+47 8.33060300e+49]\n",
            "----------------------------------------\n",
            "--------------------------------------------------------------------------------\n",
            "--------------------------------------------------------------------------------\n",
            "[1.00000000e+00 6.00000000e+00 1.20000000e+02 5.04000000e+03\n",
            " 3.62880000e+05 3.99168000e+07 6.22702080e+09 1.30767437e+12\n",
            " 3.55687428e+14 1.21645100e+17 5.10909422e+19 2.58520167e+22\n",
            " 1.55112100e+25 1.08888695e+28 8.84176199e+30 8.22283865e+33\n",
            " 8.68331762e+36 1.03331480e+40 1.37637531e+43 2.03978821e+46\n",
            " 3.34525266e+49 6.04152631e+52 1.19622221e+56 2.58623242e+59\n",
            " 6.08281864e+62 1.55111875e+66 4.27488328e+69 1.26964034e+73\n",
            " 4.05269195e+76 1.38683119e+80 5.07580214e+83 1.98260832e+87]\n",
            "--------------------------------------------------------------------------------\n",
            "--------------------------------------------------------------------------------\n",
            "VALORES DOS SENOS :: [ 0.00000000e+00 -1.33333333e-03  8.53333333e-05 -5.55428571e-06\n",
            "  3.69868078e-07 -2.50521084e-08  1.71820858e-09 -1.18965470e-10\n",
            "  8.29795719e-12 -5.82214444e-13  4.10474325e-14 -2.90554249e-15\n",
            "  2.06364678e-16 -1.46993322e-17  1.04964898e-18 -7.51168085e-20\n",
            "  5.38596588e-21 -3.86838284e-22  2.78263123e-23 -2.00435753e-24\n",
            "  1.44554202e-25 -1.04369311e-26  7.54325138e-28 -5.45695708e-29\n",
            "  3.95107945e-30 -2.86302521e-31  2.07612238e-32 -1.50652408e-33\n",
            "  1.09389074e-34 -7.94745397e-36  5.77725569e-37 -4.20184004e-38]\n",
            " \n",
            "--------------------------------------------------------------------------------\n",
            "--------------------------------------------------------------------------------\n",
            " \n",
            "VALORES DOS COS :: [1.         0.99999911 1.         1.         1.         1.\n",
            " 1.         1.         1.         1.         1.         1.\n",
            " 1.         1.         1.         1.         1.         1.\n",
            " 1.         1.         1.         1.         1.         1.\n",
            " 1.         1.         1.         1.         1.         1.\n",
            " 1.         1.        ]\n"
          ]
        }
      ]
    }
  ],
  "metadata": {
    "colab": {
      "name": "Olá, este é o Colaboratory",
      "toc_visible": true,
      "provenance": [],
      "include_colab_link": true
    },
    "kernelspec": {
      "display_name": "Python 3",
      "name": "python3"
    }
  },
  "nbformat": 4,
  "nbformat_minor": 0
}