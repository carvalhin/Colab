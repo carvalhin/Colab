{
  "cells": [
    {
      "cell_type": "markdown",
      "metadata": {
        "id": "view-in-github",
        "colab_type": "text"
      },
      "source": [
        "<a href=\"https://colab.research.google.com/github/carvalhin/Colab/blob/main/2p2.ipynb\" target=\"_parent\"><img src=\"https://colab.research.google.com/assets/colab-badge.svg\" alt=\"Open In Colab\"/></a>"
      ]
    },
    {
      "cell_type": "code",
      "source": [
        "# Igor Rodrigues de Carvalho - RA: 150334\n",
        "# 02/09/2024\n",
        "# Questão 2\n",
        "import numpy as np\n",
        "import matplotlib.pyplot as plt\n",
        "\n"
      ],
      "metadata": {
        "id": "JncyGr3JB209"
      },
      "execution_count": null,
      "outputs": []
    },
    {
      "cell_type": "code",
      "source": [
        "# Igor Rodrigues de Carvalho - RA: 150334\n",
        "# 02/09/2024\n",
        "# Questão 1\n",
        "import numpy as np\n",
        "import matplotlib.pyplot as plt\n",
        "\n",
        "# Função utilizando série de Taylor para calcular o Seno, com  32 termos.\n",
        "\n",
        "den =  np.arange(0,32)    #array original, \"n\".\n",
        "print(den)\n",
        "print(20*\"--\")\n",
        "\n",
        "pro = np.array(2*den+1)   #array (2n+1), denominador.\n",
        "print(pro)\n",
        "print(20*\"--\")\n",
        "\n",
        "pre = np.array((-1)**den) #array numerador, (-1)**n. É 1 ou -1.\n",
        "print(pre)\n",
        "print(20*\"--\")\n",
        "\n",
        "pi = np.pi                # Número pi.\n",
        "# print (pi)\n",
        "\n",
        "x = np.arange(0,2*pi,0.2) # array com variações do Círculo Trigonométrico, De zero a 2PI.\n",
        "print(x)\n",
        "print(20*\"--\")\n",
        "\n",
        "l = x.size\n",
        "print(\"Círculo Trigonométrico =\",l)\n",
        "print(20*\"--\")\n",
        "\n",
        "mul = np.array((x)**((2*den)+1))\n",
        "print(mul)\n",
        "print(20*\"--\")\n",
        "\n",
        "\n",
        "\n"
      ],
      "metadata": {
        "colab": {
          "base_uri": "https://localhost:8080/"
        },
        "id": "0JocUWG5FhdE",
        "outputId": "42f1f395-eca2-4ffa-8548-87b5187c863b"
      },
      "execution_count": 30,
      "outputs": [
        {
          "output_type": "stream",
          "name": "stdout",
          "text": [
            "[ 0  1  2  3  4  5  6  7  8  9 10 11 12 13 14 15 16 17 18 19 20 21 22 23\n",
            " 24 25 26 27 28 29 30 31]\n",
            "----------------------------------------\n",
            "[ 1  3  5  7  9 11 13 15 17 19 21 23 25 27 29 31 33 35 37 39 41 43 45 47\n",
            " 49 51 53 55 57 59 61 63]\n",
            "----------------------------------------\n",
            "[ 1 -1  1 -1  1 -1  1 -1  1 -1  1 -1  1 -1  1 -1  1 -1  1 -1  1 -1  1 -1\n",
            "  1 -1  1 -1  1 -1  1 -1]\n",
            "----------------------------------------\n",
            "[0.  0.2 0.4 0.6 0.8 1.  1.2 1.4 1.6 1.8 2.  2.2 2.4 2.6 2.8 3.  3.2 3.4\n",
            " 3.6 3.8 4.  4.2 4.4 4.6 4.8 5.  5.2 5.4 5.6 5.8 6.  6.2]\n",
            "----------------------------------------\n",
            "Círculo Trigonométrico = 32\n",
            "----------------------------------------\n",
            "[0.00000000e+00 8.00000000e-03 1.02400000e-02 2.79936000e-02\n",
            " 1.34217728e-01 1.00000000e+00 1.06993205e+01 1.55568096e+02\n",
            " 2.95147905e+03 7.08235345e+04 2.09715200e+06 7.51141330e+07\n",
            " 3.20096586e+09 1.60059109e+11 9.28074647e+12 6.17673396e+14\n",
            " 4.67680524e+16 3.99725723e+18 3.82994492e+20 4.08846485e+22\n",
            " 4.83570328e+24 6.30549938e+26 9.02340482e+28 1.41129593e+31\n",
            " 2.40336998e+33 4.44089210e+35 8.87518087e+37 1.91274374e+40\n",
            " 4.43320219e+42 1.10217770e+45 2.93242068e+47 8.33060300e+49]\n",
            "----------------------------------------\n"
          ]
        }
      ]
    }
  ],
  "metadata": {
    "colab": {
      "name": "Olá, este é o Colaboratory",
      "toc_visible": true,
      "provenance": [],
      "include_colab_link": true
    },
    "kernelspec": {
      "display_name": "Python 3",
      "name": "python3"
    }
  },
  "nbformat": 4,
  "nbformat_minor": 0
}